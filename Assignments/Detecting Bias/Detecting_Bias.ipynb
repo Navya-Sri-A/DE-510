{
  "cells": [
    {
      "cell_type": "code",
      "execution_count": 2,
      "metadata": {
        "colab": {
          "base_uri": "https://localhost:8080/"
        },
        "id": "6ZkoOaSJT3Qf",
        "outputId": "685ece07-ee86-4fe0-83f3-1d43b71f66b5"
      },
      "outputs": [
        {
          "output_type": "stream",
          "name": "stdout",
          "text": [
            "Requirement already satisfied: beautifulsoup4 in /usr/local/lib/python3.11/dist-packages (4.13.4)\n",
            "Requirement already satisfied: soupsieve>1.2 in /usr/local/lib/python3.11/dist-packages (from beautifulsoup4) (2.7)\n",
            "Requirement already satisfied: typing-extensions>=4.0.0 in /usr/local/lib/python3.11/dist-packages (from beautifulsoup4) (4.13.2)\n"
          ]
        }
      ],
      "source": [
        "!pip install beautifulsoup4"
      ]
    },
    {
      "cell_type": "code",
      "execution_count": 3,
      "metadata": {
        "id": "z3HtzQ0dUxBe"
      },
      "outputs": [],
      "source": [
        "import pandas as pd"
      ]
    },
    {
      "cell_type": "code",
      "execution_count": 4,
      "metadata": {
        "id": "3uGm9tR7U4Tl"
      },
      "outputs": [],
      "source": [
        "from google.colab import files"
      ]
    },
    {
      "cell_type": "code",
      "source": [
        "file_path = '/content/drive/MyDrive/trimet_stopevents_2022-12-07.html'"
      ],
      "metadata": {
        "id": "Rw1MX3_PcBCM"
      },
      "execution_count": 6,
      "outputs": []
    },
    {
      "cell_type": "code",
      "execution_count": 7,
      "metadata": {
        "id": "pvjZrRwKEce4"
      },
      "outputs": [],
      "source": [
        "from bs4 import BeautifulSoup\n",
        "from datetime import datetime, timedelta"
      ]
    },
    {
      "cell_type": "code",
      "execution_count": 8,
      "metadata": {
        "id": "Jvamb3AXEjp7"
      },
      "outputs": [],
      "source": [
        "with open(file_path, 'r') as file:\n",
        "    soup = BeautifulSoup(file, 'html.parser')"
      ]
    },
    {
      "cell_type": "code",
      "execution_count": 9,
      "metadata": {
        "id": "k0DnfuACFYE9"
      },
      "outputs": [],
      "source": [
        "all_records = []\n",
        "\n",
        "trip_headers = soup.find_all('h2')\n",
        "\n",
        "for heading in trip_headers:\n",
        "    trip_id = heading.text.split()[-1]\n",
        "    table = heading.find_next_sibling('table')\n",
        "    if not table:\n",
        "        continue\n",
        "\n",
        "    headers = [th.text.strip() for th in table.find_all('th')]\n",
        "\n",
        "    for row in table.find_all('tr')[1:]:\n",
        "        cells = row.find_all('td')\n",
        "        if len(cells) == len(headers):\n",
        "            record = [cell.text.strip() for cell in cells]\n",
        "            record_dict = dict(zip(headers, record))\n",
        "            record_dict['trip_id'] = trip_id\n",
        "            all_records.append(record_dict)\n",
        "\n",
        "stops_df = pd.DataFrame(all_records)\n",
        "stops_df['arrive_time'] = pd.to_numeric(stops_df['arrive_time'])\n",
        "\n",
        "date = datetime(2022, 12, 7)\n",
        "stops_df['tstamp'] = stops_df['arrive_time'].apply(lambda x: date + timedelta(seconds=x))\n",
        "\n",
        "stops_df['vehicle_number'] = stops_df['vehicle_number'].astype(str)\n",
        "stops_df['trip_id'] = stops_df['trip_id'].astype(str)\n",
        "stops_df['location_id'] = stops_df['location_id'].astype(str)\n",
        "\n",
        "stops_df['ons'] = pd.to_numeric(stops_df['ons'])\n",
        "stops_df['offs'] = pd.to_numeric(stops_df['offs'])"
      ]
    },
    {
      "cell_type": "code",
      "execution_count": 10,
      "metadata": {
        "colab": {
          "base_uri": "https://localhost:8080/"
        },
        "id": "2hRfRLS6Jn1u",
        "outputId": "5a761c07-03ea-4905-8288-77446df3e036"
      },
      "outputs": [
        {
          "output_type": "stream",
          "name": "stdout",
          "text": [
            "The total no. of stop events : 93912\n"
          ]
        }
      ],
      "source": [
        "stops_df = stops_df[['trip_id', 'vehicle_number', 'tstamp', 'location_id', 'ons', 'offs']]\n",
        "print(f\"The total no. of stop events : {len(stops_df)}\")"
      ]
    },
    {
      "cell_type": "code",
      "execution_count": 11,
      "metadata": {
        "colab": {
          "base_uri": "https://localhost:8080/"
        },
        "id": "MTmbwJwdJ7_m",
        "outputId": "64d6ffaa-bb29-4d76-b848-9710947a18cb"
      },
      "outputs": [
        {
          "output_type": "stream",
          "name": "stdout",
          "text": [
            "The total no. of unique Vehicles : 158\n"
          ]
        }
      ],
      "source": [
        "vehicles = stops_df['vehicle_number'].nunique()\n",
        "print(f\"The total no. of unique Vehicles : {(vehicles)}\")"
      ]
    },
    {
      "cell_type": "code",
      "execution_count": 12,
      "metadata": {
        "colab": {
          "base_uri": "https://localhost:8080/"
        },
        "id": "702SeKsUJ-MP",
        "outputId": "559f9061-7b3d-4813-e08e-610b96e21f1d"
      },
      "outputs": [
        {
          "output_type": "stream",
          "name": "stdout",
          "text": [
            "The total no. of unique Stop Locations : 4354\n"
          ]
        }
      ],
      "source": [
        "locations = stops_df['location_id'].nunique()\n",
        "print(f\"The total no. of unique Stop Locations : {(locations)}\")"
      ]
    },
    {
      "cell_type": "code",
      "execution_count": 13,
      "metadata": {
        "colab": {
          "base_uri": "https://localhost:8080/"
        },
        "id": "Jcd7umVcKAaO",
        "outputId": "8d6d28ff-c223-4001-fa38-6f5bb8ce4589"
      },
      "outputs": [
        {
          "output_type": "stream",
          "name": "stdout",
          "text": [
            "The minimun timestamp is noted as : 2022-12-07 04:02:29\n"
          ]
        }
      ],
      "source": [
        "min = stops_df['tstamp'].min()\n",
        "print(f\"The minimun timestamp is noted as : {(min)}\")"
      ]
    },
    {
      "cell_type": "code",
      "execution_count": 14,
      "metadata": {
        "colab": {
          "base_uri": "https://localhost:8080/"
        },
        "id": "LNlebn0PKEas",
        "outputId": "5997a32e-601c-487a-aa56-81611a847e26"
      },
      "outputs": [
        {
          "output_type": "stream",
          "name": "stdout",
          "text": [
            "The maximum timestamp is noted as : 2022-12-08 02:37:41\n"
          ]
        }
      ],
      "source": [
        "max = stops_df['tstamp'].max()\n",
        "print(f\"The maximum timestamp is noted as : {(max)}\")"
      ]
    },
    {
      "cell_type": "code",
      "execution_count": 15,
      "metadata": {
        "colab": {
          "base_uri": "https://localhost:8080/"
        },
        "id": "O_6XhwOjKHLj",
        "outputId": "eb57ba76-dfd9-4fad-a8db-dc2775dcb167"
      },
      "outputs": [
        {
          "output_type": "stream",
          "name": "stdout",
          "text": [
            "The total no. of stop events at which at least one passenger boarded : 19858\n"
          ]
        }
      ],
      "source": [
        "boarding_stats = (stops_df['ons'] >= 1).sum()\n",
        "print(f\"The total no. of stop events at which at least one passenger boarded : {boarding_stats}\")"
      ]
    },
    {
      "cell_type": "code",
      "execution_count": 16,
      "metadata": {
        "colab": {
          "base_uri": "https://localhost:8080/"
        },
        "id": "0jI469fCKJsb",
        "outputId": "e14005b8-2f6d-46f7-911d-1a03dd441dd5"
      },
      "outputs": [
        {
          "output_type": "stream",
          "name": "stdout",
          "text": [
            "The percentage of stop events with at least one passenger boarding : 21.14532754067638\n"
          ]
        }
      ],
      "source": [
        "percentage = (boarding_stats / len(stops_df)) * 100\n",
        "print(f\"The percentage of stop events with at least one passenger boarding : {percentage}\")"
      ]
    },
    {
      "cell_type": "code",
      "execution_count": 17,
      "metadata": {
        "colab": {
          "base_uri": "https://localhost:8080/"
        },
        "id": "Yyy-jsM1MSf2",
        "outputId": "b5367476-dd97-4924-b3f1-afa134b30a3f"
      },
      "outputs": [
        {
          "output_type": "stream",
          "name": "stdout",
          "text": [
            "The total no. of stops made at 6913 location are : 15\n"
          ]
        }
      ],
      "source": [
        "location_df = stops_df[stops_df['location_id'] == '6913']\n",
        "print(f\"The total no. of stops made at 6913 location are : {len(location_df)}\")"
      ]
    },
    {
      "cell_type": "code",
      "execution_count": 18,
      "metadata": {
        "colab": {
          "base_uri": "https://localhost:8080/"
        },
        "id": "c8DP4KYkP6ck",
        "outputId": "c9e76ec7-a8cd-4f83-fa34-af2234a1808a"
      },
      "outputs": [
        {
          "output_type": "stream",
          "name": "stdout",
          "text": [
            "The total no. of different buses stopped at 6913 location : 5\n"
          ]
        }
      ],
      "source": [
        "stop_stats = location_df['vehicle_number'].nunique()\n",
        "print(f\"The total no. of different buses stopped at 6913 location : {(stop_stats)}\")"
      ]
    },
    {
      "cell_type": "code",
      "execution_count": 19,
      "metadata": {
        "colab": {
          "base_uri": "https://localhost:8080/"
        },
        "id": "2ja0I7HcQUAQ",
        "outputId": "652fac94-73fc-4091-c691-6ea5b45b8d4f"
      },
      "outputs": [
        {
          "output_type": "stream",
          "name": "stdout",
          "text": [
            "The total No. of stops at 6913 location with at least one passenger boarding : 2\n"
          ]
        }
      ],
      "source": [
        "boarding = (location_df['ons'] >= 1).sum()\n",
        "print(f\"The total No. of stops at 6913 location with at least one passenger boarding : {boarding}\")"
      ]
    },
    {
      "cell_type": "code",
      "execution_count": 20,
      "metadata": {
        "colab": {
          "base_uri": "https://localhost:8080/"
        },
        "id": "wBDeq5P_ROYu",
        "outputId": "ba43a95a-95eb-4adb-8829-1764f904dc59"
      },
      "outputs": [
        {
          "output_type": "stream",
          "name": "stdout",
          "text": [
            "The percentage of stops at 6913 location did at least one passenger board : 13.333333333333334\n"
          ]
        }
      ],
      "source": [
        "percentages = (boarding  / len(location_df)) * 100\n",
        "print(f\"The percentage of stops at 6913 location did at least one passenger board : {percentages}\")"
      ]
    },
    {
      "cell_type": "code",
      "execution_count": 21,
      "metadata": {
        "colab": {
          "base_uri": "https://localhost:8080/"
        },
        "id": "GK0I0iGtSeWY",
        "outputId": "a7b88942-2608-42f4-85a0-ee85be810a91"
      },
      "outputs": [
        {
          "output_type": "stream",
          "name": "stdout",
          "text": [
            "The total no. of stops made by 4062 vehicle are : 68\n"
          ]
        }
      ],
      "source": [
        "vehicle_df = stops_df[stops_df['vehicle_number'] == '4062']\n",
        "print(f\"The total no. of stops made by 4062 vehicle are : {len(vehicle_df)}\")"
      ]
    },
    {
      "cell_type": "code",
      "execution_count": 22,
      "metadata": {
        "colab": {
          "base_uri": "https://localhost:8080/"
        },
        "id": "PDwA3dsPSemr",
        "outputId": "ef67e72a-6df0-423c-83a8-259b09740a30"
      },
      "outputs": [
        {
          "output_type": "stream",
          "name": "stdout",
          "text": [
            "The total no. of passengers boarding the 4062 vehicle are : 26\n"
          ]
        }
      ],
      "source": [
        "board_stats = vehicle_df['ons'].sum()\n",
        "print(f\"The total no. of passengers boarding the 4062 vehicle are : {board_stats}\")"
      ]
    },
    {
      "cell_type": "code",
      "execution_count": 23,
      "metadata": {
        "colab": {
          "base_uri": "https://localhost:8080/"
        },
        "id": "60brZSxxSerJ",
        "outputId": "30f0d9c3-d3ec-4994-c439-e7d1b7322a4f"
      },
      "outputs": [
        {
          "output_type": "stream",
          "name": "stdout",
          "text": [
            "The total no. of passengers deboarding the 4062 vehicle are : 26\n"
          ]
        }
      ],
      "source": [
        "deboard_stats = vehicle_df['offs'].sum()\n",
        "print(f\"The total no. of passengers deboarding the 4062 vehicle are : {deboard_stats}\")"
      ]
    },
    {
      "cell_type": "code",
      "execution_count": 24,
      "metadata": {
        "colab": {
          "base_uri": "https://localhost:8080/"
        },
        "id": "U0X9xP5YSewa",
        "outputId": "a4eb0a78-95ee-42cd-cd50-2e8e75f4ea66"
      },
      "outputs": [
        {
          "output_type": "stream",
          "name": "stdout",
          "text": [
            "The percentage of 4062 vehicle stop events did at least one passenger board : 16.176470588235293\n"
          ]
        }
      ],
      "source": [
        "board_stats_one = (vehicle_df['ons'] >= 1).sum()\n",
        "percent = (board_stats_one  / len(vehicle_df)) * 100\n",
        "print(f\"The percentage of 4062 vehicle stop events did at least one passenger board : {percent}\")"
      ]
    },
    {
      "cell_type": "code",
      "execution_count": 25,
      "metadata": {
        "id": "4qUV5Z2ySe4N",
        "colab": {
          "base_uri": "https://localhost:8080/"
        },
        "outputId": "666618e0-bee1-4581-997d-279bde3c94b4"
      },
      "outputs": [
        {
          "output_type": "stream",
          "name": "stdout",
          "text": [
            "Requirement already satisfied: scipy in /usr/local/lib/python3.11/dist-packages (1.15.3)\n",
            "Requirement already satisfied: numpy<2.5,>=1.23.5 in /usr/local/lib/python3.11/dist-packages (from scipy) (2.0.2)\n"
          ]
        }
      ],
      "source": [
        "!pip install scipy"
      ]
    },
    {
      "cell_type": "code",
      "execution_count": 26,
      "metadata": {
        "id": "LSRCusllSfBl"
      },
      "outputs": [],
      "source": [
        "from scipy.stats import binomtest"
      ]
    },
    {
      "cell_type": "code",
      "source": [
        "count_events = len(stops_df)\n",
        "count_bus_boarding_events = (stops_df['ons'] >= 1).sum()\n",
        "\n",
        "event_percentage = count_bus_boarding_events / count_events\n",
        "print(f\"The percentage of stop events with boardings : {event_percentage}\")"
      ],
      "metadata": {
        "colab": {
          "base_uri": "https://localhost:8080/"
        },
        "id": "_3jf_aidlTGi",
        "outputId": "d337d791-4523-4222-eb52-30e772e1dea6"
      },
      "execution_count": 27,
      "outputs": [
        {
          "output_type": "stream",
          "name": "stdout",
          "text": [
            "The percentage of stop events with boardings : 0.21145327540676379\n"
          ]
        }
      ]
    },
    {
      "cell_type": "code",
      "source": [
        "vehicle_data = stops_df.groupby('vehicle_number').agg(all_stops=('ons', 'count'),boardings=('ons', lambda x: (x >= 1).sum())).reset_index()\n",
        "\n",
        "vehicle_data['all_stops'] = vehicle_data['all_stops']\n",
        "vehicle_data['boardings'] = vehicle_data['boardings']\n",
        "\n",
        "vehicle_data['boarding_avg'] = vehicle_data['boardings'] / vehicle_data['all_stops']\n",
        "\n",
        "vehicle_data['p_value'] = vehicle_data.apply(\n",
        "    lambda row: binomtest(\n",
        "        int(row['boardings']),int(row['all_stops']),event_percentage\n",
        "        ).pvalue,\n",
        "    axis=1\n",
        ")\n",
        "\n",
        "bus_bias = vehicle_data[vehicle_data['p_value'] < 0.05].sort_values('p_value')\n",
        "print(f\"The below is the result set for binomial test to determine which buses have biased “ons” data (p < 0.05) :\")\n",
        "print(bus_bias[['vehicle_number', 'boarding_avg', 'p_value']])\n"
      ],
      "metadata": {
        "colab": {
          "base_uri": "https://localhost:8080/"
        },
        "id": "7u2rv8d7woYv",
        "outputId": "07a2db21-0dcc-419e-9fb0-f59c37ccf914"
      },
      "execution_count": 28,
      "outputs": [
        {
          "output_type": "stream",
          "name": "stdout",
          "text": [
            "The below is the result set for binomial test to determine which buses have biased “ons” data (p < 0.05) :\n",
            "    vehicle_number  boarding_avg   p_value\n",
            "113           3915      0.173716  0.017249\n",
            "70            3530      0.173611  0.028077\n",
            "125           3963      0.167901  0.033011\n",
            "103           3733      0.180536  0.043074\n",
            "88            3634      0.171149  0.045715\n"
          ]
        }
      ]
    },
    {
      "cell_type": "code",
      "source": [
        "import pandas as pd\n",
        "from google.colab import files\n",
        "from scipy.stats import ttest_ind"
      ],
      "metadata": {
        "id": "vuxqzdqygM2c"
      },
      "execution_count": 39,
      "outputs": []
    },
    {
      "cell_type": "code",
      "source": [
        "gps_df = pd.read_csv(\"/content/drive/MyDrive/trimet_relpos_2022-12-07.csv\")\n",
        "\n",
        "bus_biases = []\n",
        "\n",
        "all_relpos = gps_df['RELPOS'].dropna().values\n",
        "\n",
        "bus_data = gps_df.dropna(subset=['RELPOS']).groupby('VEHICLE_NUMBER')\n",
        "\n",
        "for vehicle_id, group in bus_data:\n",
        "    bus_relpos = group['RELPOS'].values\n",
        "\n",
        "    t_stat, p_value = ttest_ind(bus_relpos, all_relpos, equal_var=False)\n",
        "\n",
        "    if p_value < 0.005:\n",
        "        bus_biases.append({\n",
        "            'vehicle_number': vehicle_id,\n",
        "            'total_gps': len(bus_relpos),\n",
        "            'p_value': p_value\n",
        "        })\n",
        "\n",
        "biased_gps_df = pd.DataFrame(bus_biases)\n",
        "biased_gps_df = biased_gps_df.sort_values('p_value')\n",
        "\n",
        "print(f\"The below is the result set for T-test to determine which buses have biased GPS data (p < 0.005) :\")\n",
        "print(biased_gps_df[[ 'vehicle_number', 'total_gps', 'p_value']])"
      ],
      "metadata": {
        "colab": {
          "base_uri": "https://localhost:8080/"
        },
        "id": "dbd2FZ2PgOMt",
        "outputId": "41b25dfd-93cd-4f1d-f547-7f0980831c20"
      },
      "execution_count": 41,
      "outputs": [
        {
          "output_type": "stream",
          "name": "stdout",
          "text": [
            "The below is the result set for T-test to determine which buses have biased GPS data (p < 0.005) :\n",
            "   vehicle_number  total_gps   p_value\n",
            "0            3638      10968  0.000000\n",
            "1            3804      12491  0.000000\n",
            "3            4305       5770  0.000000\n",
            "2            4024      12119  0.004008\n"
          ]
        }
      ]
    },
    {
      "cell_type": "code",
      "source": [
        "from scipy.stats import chi2_contingency\n",
        "\n",
        "total_offs = stops_df['offs'].sum()\n",
        "total_ons = stops_df['ons'].sum()\n",
        "\n",
        "vehicle_bias = []\n",
        "\n",
        "all_vehicles = stops_df.groupby('vehicle_number').agg(bus_ons = ('ons', 'sum'), bus_offs = ('offs', 'sum')).reset_index()\n",
        "\n",
        "for _, row in all_vehicles.iterrows():\n",
        "    bus_ons = row['bus_ons']\n",
        "    bus_offs = row['bus_offs']\n",
        "\n",
        "    contingency_creation = [\n",
        "        [bus_ons, bus_offs],\n",
        "        [total_ons - bus_ons, total_offs - bus_offs]\n",
        "    ]\n",
        "\n",
        "    chi2, p_value, _, _ = chi2_contingency(contingency_creation)\n",
        "\n",
        "    if p_value < 0.05:\n",
        "        vehicle_bias.append({\n",
        "            'vehicle_number': vehicle_id,\n",
        "            'sum_ons': bus_ons,\n",
        "            'sum_offs': bus_offs,\n",
        "            'p_value': p_value\n",
        "        })\n",
        "\n",
        "biased_ons_offs_df = pd.DataFrame(vehicle_bias)\n",
        "biased_ons_offs_df = biased_ons_offs_df.sort_values('p_value')\n",
        "\n",
        "print(f\"The below is the result set for Chi-squared test to determine which buses have biased ons and offs data (p < 0.005) : \")\n",
        "print(biased_ons_offs_df[['vehicle_number', 'sum_ons', 'sum_offs', 'p_value']])"
      ],
      "metadata": {
        "colab": {
          "base_uri": "https://localhost:8080/"
        },
        "id": "airoeqRkbJTj",
        "outputId": "f916f07e-304c-4127-c3de-44f6eab23b98"
      },
      "execution_count": 42,
      "outputs": [
        {
          "output_type": "stream",
          "name": "stdout",
          "text": [
            "The below is the result set for Chi-squared test to determine which buses have biased ons and offs data (p < 0.005) : \n",
            "   vehicle_number  sum_ons  sum_offs   p_value\n",
            "1            4305      379       322  0.018783\n",
            "0            4305      517       457  0.030134\n"
          ]
        }
      ]
    }
  ],
  "metadata": {
    "colab": {
      "provenance": []
    },
    "kernelspec": {
      "display_name": "Python 3",
      "name": "python3"
    },
    "language_info": {
      "name": "python"
    }
  },
  "nbformat": 4,
  "nbformat_minor": 0
}