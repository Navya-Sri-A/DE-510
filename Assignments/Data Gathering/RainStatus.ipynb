{
  "nbformat": 4,
  "nbformat_minor": 0,
  "metadata": {
    "colab": {
      "provenance": []
    },
    "kernelspec": {
      "name": "python3",
      "display_name": "Python 3"
    },
    "language_info": {
      "name": "python"
    }
  },
  "cells": [
    {
      "cell_type": "code",
      "execution_count": 1,
      "metadata": {
        "colab": {
          "base_uri": "https://localhost:8080/"
        },
        "id": "2ouT67XofwEz",
        "outputId": "663b4d5b-2fc7-44e5-a448-79b2db29451b"
      },
      "outputs": [
        {
          "output_type": "stream",
          "name": "stdout",
          "text": [
            "Enter city name : New York\n",
            "If you are wondering if it's raining in New York now !? \n",
            " Yes it is !! Enjoy the cool weather\n",
            "Is it forecasted to be raining in New York the coming 3 days !? \n",
            " Yes it is !! Plan your holiday\n"
          ]
        }
      ],
      "source": [
        "#Imported the required packages\n",
        "import requests\n",
        "import json\n",
        "from datetime import datetime, timedelta\n",
        "\n",
        "#API Key retrieved for Open Weather API\n",
        "api_key = \"46fe0967e705191c2b113a406c341ce0\"\n",
        "\n",
        "#Link to the application\n",
        "base_url = \"http://api.openweathermap.org/data/2.5/weather?\"\n",
        "\n",
        "#Dynamically takes the input and forms the complete url\n",
        "city_name = input(\"Enter city name : \")\n",
        "complete_url = base_url + \"appid=\" + api_key + \"&q=\" + city_name\n",
        "\n",
        "#Response is being collected and converted to json\n",
        "response = requests.get(complete_url)\n",
        "current_response = response.json()\n",
        "\n",
        "#Status check condition for rain currently\n",
        "current_rainstatus = any(w['main'] == 'Rain' for w in current_response['weather'])\n",
        "\n",
        "#Defining timeperiod and forming the url accordingly\n",
        "future_days = datetime.utcnow() + timedelta(days=3)\n",
        "forecast_url = base_url + f'q={city_name}&appid={api_key}&dt={int(future_days.timestamp())}'\n",
        "\n",
        "#Response is being collected and converted to json\n",
        "fresponse = requests.get(forecast_url)\n",
        "forecast_response = fresponse.json()\n",
        "\n",
        "#Status check condition for rain for coming 3 days\n",
        "forecast_rainstatus = any(w['main'] == 'Rain' for w in forecast_response['weather'])\n",
        "\n",
        "#Printing the status based on the rain situation in the city requested by user\n",
        "print(f\"If you are wondering if it's raining in {city_name} now !? \\n {'Yes it is !! Enjoy the cool weather' if current_rainstatus else 'No, time for some outdoor fun'}\")\n",
        "print(f\"Is it forecasted to be raining in {city_name} the coming 3 days !? \\n {'Yes it is !! Plan your holiday' if forecast_rainstatus else 'No, you are good off without an umbrella :P'}\")\n"
      ]
    }
  ]
}