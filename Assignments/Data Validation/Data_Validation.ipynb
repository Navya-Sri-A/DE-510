{
  "nbformat": 4,
  "nbformat_minor": 0,
  "metadata": {
    "colab": {
      "provenance": []
    },
    "kernelspec": {
      "name": "python3",
      "display_name": "Python 3"
    },
    "language_info": {
      "name": "python"
    }
  },
  "cells": [
    {
      "cell_type": "code",
      "execution_count": 1,
      "metadata": {
        "colab": {
          "base_uri": "https://localhost:8080/",
          "height": 73
        },
        "id": "TYV9Mz21_UGf",
        "outputId": "698ac177-1ed3-4b70-cc58-ac1de9bc9266"
      },
      "outputs": [
        {
          "output_type": "display_data",
          "data": {
            "text/plain": [
              "<IPython.core.display.HTML object>"
            ],
            "text/html": [
              "\n",
              "     <input type=\"file\" id=\"files-66e0b119-4a7b-4e8c-af5c-6f81daf0c302\" name=\"files[]\" multiple disabled\n",
              "        style=\"border:none\" />\n",
              "     <output id=\"result-66e0b119-4a7b-4e8c-af5c-6f81daf0c302\">\n",
              "      Upload widget is only available when the cell has been executed in the\n",
              "      current browser session. Please rerun this cell to enable.\n",
              "      </output>\n",
              "      <script>// Copyright 2017 Google LLC\n",
              "//\n",
              "// Licensed under the Apache License, Version 2.0 (the \"License\");\n",
              "// you may not use this file except in compliance with the License.\n",
              "// You may obtain a copy of the License at\n",
              "//\n",
              "//      http://www.apache.org/licenses/LICENSE-2.0\n",
              "//\n",
              "// Unless required by applicable law or agreed to in writing, software\n",
              "// distributed under the License is distributed on an \"AS IS\" BASIS,\n",
              "// WITHOUT WARRANTIES OR CONDITIONS OF ANY KIND, either express or implied.\n",
              "// See the License for the specific language governing permissions and\n",
              "// limitations under the License.\n",
              "\n",
              "/**\n",
              " * @fileoverview Helpers for google.colab Python module.\n",
              " */\n",
              "(function(scope) {\n",
              "function span(text, styleAttributes = {}) {\n",
              "  const element = document.createElement('span');\n",
              "  element.textContent = text;\n",
              "  for (const key of Object.keys(styleAttributes)) {\n",
              "    element.style[key] = styleAttributes[key];\n",
              "  }\n",
              "  return element;\n",
              "}\n",
              "\n",
              "// Max number of bytes which will be uploaded at a time.\n",
              "const MAX_PAYLOAD_SIZE = 100 * 1024;\n",
              "\n",
              "function _uploadFiles(inputId, outputId) {\n",
              "  const steps = uploadFilesStep(inputId, outputId);\n",
              "  const outputElement = document.getElementById(outputId);\n",
              "  // Cache steps on the outputElement to make it available for the next call\n",
              "  // to uploadFilesContinue from Python.\n",
              "  outputElement.steps = steps;\n",
              "\n",
              "  return _uploadFilesContinue(outputId);\n",
              "}\n",
              "\n",
              "// This is roughly an async generator (not supported in the browser yet),\n",
              "// where there are multiple asynchronous steps and the Python side is going\n",
              "// to poll for completion of each step.\n",
              "// This uses a Promise to block the python side on completion of each step,\n",
              "// then passes the result of the previous step as the input to the next step.\n",
              "function _uploadFilesContinue(outputId) {\n",
              "  const outputElement = document.getElementById(outputId);\n",
              "  const steps = outputElement.steps;\n",
              "\n",
              "  const next = steps.next(outputElement.lastPromiseValue);\n",
              "  return Promise.resolve(next.value.promise).then((value) => {\n",
              "    // Cache the last promise value to make it available to the next\n",
              "    // step of the generator.\n",
              "    outputElement.lastPromiseValue = value;\n",
              "    return next.value.response;\n",
              "  });\n",
              "}\n",
              "\n",
              "/**\n",
              " * Generator function which is called between each async step of the upload\n",
              " * process.\n",
              " * @param {string} inputId Element ID of the input file picker element.\n",
              " * @param {string} outputId Element ID of the output display.\n",
              " * @return {!Iterable<!Object>} Iterable of next steps.\n",
              " */\n",
              "function* uploadFilesStep(inputId, outputId) {\n",
              "  const inputElement = document.getElementById(inputId);\n",
              "  inputElement.disabled = false;\n",
              "\n",
              "  const outputElement = document.getElementById(outputId);\n",
              "  outputElement.innerHTML = '';\n",
              "\n",
              "  const pickedPromise = new Promise((resolve) => {\n",
              "    inputElement.addEventListener('change', (e) => {\n",
              "      resolve(e.target.files);\n",
              "    });\n",
              "  });\n",
              "\n",
              "  const cancel = document.createElement('button');\n",
              "  inputElement.parentElement.appendChild(cancel);\n",
              "  cancel.textContent = 'Cancel upload';\n",
              "  const cancelPromise = new Promise((resolve) => {\n",
              "    cancel.onclick = () => {\n",
              "      resolve(null);\n",
              "    };\n",
              "  });\n",
              "\n",
              "  // Wait for the user to pick the files.\n",
              "  const files = yield {\n",
              "    promise: Promise.race([pickedPromise, cancelPromise]),\n",
              "    response: {\n",
              "      action: 'starting',\n",
              "    }\n",
              "  };\n",
              "\n",
              "  cancel.remove();\n",
              "\n",
              "  // Disable the input element since further picks are not allowed.\n",
              "  inputElement.disabled = true;\n",
              "\n",
              "  if (!files) {\n",
              "    return {\n",
              "      response: {\n",
              "        action: 'complete',\n",
              "      }\n",
              "    };\n",
              "  }\n",
              "\n",
              "  for (const file of files) {\n",
              "    const li = document.createElement('li');\n",
              "    li.append(span(file.name, {fontWeight: 'bold'}));\n",
              "    li.append(span(\n",
              "        `(${file.type || 'n/a'}) - ${file.size} bytes, ` +\n",
              "        `last modified: ${\n",
              "            file.lastModifiedDate ? file.lastModifiedDate.toLocaleDateString() :\n",
              "                                    'n/a'} - `));\n",
              "    const percent = span('0% done');\n",
              "    li.appendChild(percent);\n",
              "\n",
              "    outputElement.appendChild(li);\n",
              "\n",
              "    const fileDataPromise = new Promise((resolve) => {\n",
              "      const reader = new FileReader();\n",
              "      reader.onload = (e) => {\n",
              "        resolve(e.target.result);\n",
              "      };\n",
              "      reader.readAsArrayBuffer(file);\n",
              "    });\n",
              "    // Wait for the data to be ready.\n",
              "    let fileData = yield {\n",
              "      promise: fileDataPromise,\n",
              "      response: {\n",
              "        action: 'continue',\n",
              "      }\n",
              "    };\n",
              "\n",
              "    // Use a chunked sending to avoid message size limits. See b/62115660.\n",
              "    let position = 0;\n",
              "    do {\n",
              "      const length = Math.min(fileData.byteLength - position, MAX_PAYLOAD_SIZE);\n",
              "      const chunk = new Uint8Array(fileData, position, length);\n",
              "      position += length;\n",
              "\n",
              "      const base64 = btoa(String.fromCharCode.apply(null, chunk));\n",
              "      yield {\n",
              "        response: {\n",
              "          action: 'append',\n",
              "          file: file.name,\n",
              "          data: base64,\n",
              "        },\n",
              "      };\n",
              "\n",
              "      let percentDone = fileData.byteLength === 0 ?\n",
              "          100 :\n",
              "          Math.round((position / fileData.byteLength) * 100);\n",
              "      percent.textContent = `${percentDone}% done`;\n",
              "\n",
              "    } while (position < fileData.byteLength);\n",
              "  }\n",
              "\n",
              "  // All done.\n",
              "  yield {\n",
              "    response: {\n",
              "      action: 'complete',\n",
              "    }\n",
              "  };\n",
              "}\n",
              "\n",
              "scope.google = scope.google || {};\n",
              "scope.google.colab = scope.google.colab || {};\n",
              "scope.google.colab._files = {\n",
              "  _uploadFiles,\n",
              "  _uploadFilesContinue,\n",
              "};\n",
              "})(self);\n",
              "</script> "
            ]
          },
          "metadata": {}
        },
        {
          "output_type": "stream",
          "name": "stdout",
          "text": [
            "Saving employees.csv to employees.csv\n"
          ]
        }
      ],
      "source": [
        "from google.colab import files\n",
        "uploaded = files.upload()"
      ]
    },
    {
      "cell_type": "code",
      "source": [
        "import os\n",
        "import csv\n",
        "import pandas as pd\n",
        "import matplotlib.pyplot as plt"
      ],
      "metadata": {
        "id": "7seCxH2S_bfi"
      },
      "execution_count": 7,
      "outputs": []
    },
    {
      "cell_type": "code",
      "source": [
        "file = \"employees.csv\"\n",
        "\n",
        "file_size = os.path.getsize(file)\n",
        "print(f\"The file size is {file_size} bytes\")\n",
        "\n",
        "employees_df = pd.read_csv(\"employees.csv\")\n",
        "print(f\"The total number of records are {len(employees_df)}\")"
      ],
      "metadata": {
        "colab": {
          "base_uri": "https://localhost:8080/"
        },
        "id": "5GwmFThu_02t",
        "outputId": "278f785e-3763-4550-b22b-0b6b1424dce6"
      },
      "execution_count": 9,
      "outputs": [
        {
          "output_type": "stream",
          "name": "stdout",
          "text": [
            "The file size is 3030111 bytes\n",
            "The total number of records are 20000\n"
          ]
        }
      ]
    },
    {
      "cell_type": "code",
      "source": [
        "name_check = employees_df['name'].isnull().sum()\n",
        "print(f\"Existence Assertion : Non null NAME field value {name_check} \")\n",
        "\n",
        "eid_check = employees_df['eid'].isnull().sum()\n",
        "print(f\"Existence Assertion : Non null EID field value {eid_check}\")"
      ],
      "metadata": {
        "colab": {
          "base_uri": "https://localhost:8080/"
        },
        "id": "NWOBFEJtCFOW",
        "outputId": "639f6549-379d-4ff8-ef1b-9c47c2da75fe"
      },
      "execution_count": 22,
      "outputs": [
        {
          "output_type": "stream",
          "name": "stdout",
          "text": [
            "Existence Assertion : Non null NAME field value 19 \n",
            "Existence Assertion : Non null EID field value 0\n"
          ]
        }
      ]
    },
    {
      "cell_type": "code",
      "source": [
        "employees_df['hire_date'] = pd.to_datetime(employees_df['hire_date'], errors='coerce')\n",
        "pre_2015 = employees_df[employees_df['hire_date'] < '2015-01-01']\n",
        "print(f\"Limit Assertion : Employee was hired no earlier than 2015 is false and the count is {len(pre_2015)}\")\n",
        "\n",
        "post_2015 = employees_df[employees_df['hire_date'] > '2015-01-01']\n",
        "print(f\"Limit Assertion : Employee was hired no earlier than 2015 is true and the count is {len(post_2015)}\")"
      ],
      "metadata": {
        "colab": {
          "base_uri": "https://localhost:8080/"
        },
        "id": "7pLeZgU3C2SW",
        "outputId": "ce551220-0bff-4459-f528-f32af1b4d4eb"
      },
      "execution_count": 63,
      "outputs": [
        {
          "output_type": "stream",
          "name": "stdout",
          "text": [
            "Limit Assertion : Employee was hired no earlier than 2015 is false and the count is 18\n",
            "Limit Assertion : Employee was hired no earlier than 2015 is true and the count is 19982\n"
          ]
        }
      ]
    },
    {
      "cell_type": "code",
      "source": [
        "pay = employees_df[employees_df['salary'] < 75000]\n",
        "print(f\"Limit Assertion : Employee salary is lesser than $75K - {len(pay)}\")"
      ],
      "metadata": {
        "colab": {
          "base_uri": "https://localhost:8080/"
        },
        "id": "N-igIPOZGAvJ",
        "outputId": "bac45634-c901-42fb-cd77-bf626215b762"
      },
      "execution_count": 60,
      "outputs": [
        {
          "output_type": "stream",
          "name": "stdout",
          "text": [
            "Limit Assertion : Employee salary is lesser than $75K - 15181\n"
          ]
        }
      ]
    },
    {
      "cell_type": "code",
      "source": [
        "employees_df['birth_date'] = pd.to_datetime(employees_df['birth_date'], errors='coerce')\n",
        "employees_df['hire_date'] = pd.to_datetime(employees_df['hire_date'], errors='coerce')\n",
        "\n",
        "invalid = employees_df[employees_df['birth_date'] >= employees_df['hire_date']]\n",
        "print(f\"Intra-Record Assertion : Employee was born before they were hired is false, count is {len(invalid)}\")\n",
        "\n",
        "valid = employees_df[employees_df['birth_date'] <= employees_df['hire_date']]\n",
        "print(f\"Intra-Record Assertion : Employee was born before they were hired is true, count is {len(valid)}\")"
      ],
      "metadata": {
        "colab": {
          "base_uri": "https://localhost:8080/"
        },
        "id": "Q9KIEJxVO0q5",
        "outputId": "ffa504a6-859c-46ca-a3fc-995b3bf465ab"
      },
      "execution_count": 69,
      "outputs": [
        {
          "output_type": "stream",
          "name": "stdout",
          "text": [
            "Intra-Record Assertion : Employee was born before they were hired is false, count is 13\n",
            "Intra-Record Assertion : Employee was born before they were hired is true, count is 19987\n"
          ]
        }
      ]
    },
    {
      "cell_type": "code",
      "source": [
        "manager_check = employees_df[employees_df['eid'] != employees_df['reports_to']]\n",
        "print(f\"Intra-Record Assertion : Employees who has a reporting manager and not self {len(manager_check)}\")"
      ],
      "metadata": {
        "colab": {
          "base_uri": "https://localhost:8080/"
        },
        "id": "LevDFhJ4RICp",
        "outputId": "2f76c337-8f20-4c24-b502-cfd71c179c3e"
      },
      "execution_count": 77,
      "outputs": [
        {
          "output_type": "stream",
          "name": "stdout",
          "text": [
            "Intra-Record Assertion : Employees who has a reporting manager and not self 19999\n"
          ]
        }
      ]
    },
    {
      "cell_type": "code",
      "source": [
        "manager = set(employees_df['reports_to'])\n",
        "employee = set(employees_df['eid'])\n",
        "\n",
        "check = manager - employee\n",
        "unknown_employee= employees_df[employees_df['reports_to'].isin(check)]\n",
        "print(f\"Inter-Record Assertion : Employees who has a manager who is a known employee {len(unknown_employee)}\")"
      ],
      "metadata": {
        "colab": {
          "base_uri": "https://localhost:8080/"
        },
        "id": "OAbRE0hIUKMx",
        "outputId": "8a3a7a36-d6b6-445b-c36e-59b188c06977"
      },
      "execution_count": 84,
      "outputs": [
        {
          "output_type": "stream",
          "name": "stdout",
          "text": [
            "Inter-Record Assertion : Employees who has a manager who is a known employee 7673\n"
          ]
        }
      ]
    },
    {
      "cell_type": "code",
      "source": [
        "duplicate_phones = employees_df[employees_df.duplicated('phone', keep=False)]\n",
        "print(f\"Inter-Record Assertion : Employees who has duplicate phone records {len(duplicate_phones)} \")"
      ],
      "metadata": {
        "colab": {
          "base_uri": "https://localhost:8080/"
        },
        "id": "T7PAIvduW_sx",
        "outputId": "1b5458e6-bfbd-461d-90d2-967ea62bf447"
      },
      "execution_count": 91,
      "outputs": [
        {
          "output_type": "stream",
          "name": "stdout",
          "text": [
            "Inter-Record Assertion : Employees who has duplicate phone records 2 \n"
          ]
        }
      ]
    },
    {
      "cell_type": "code",
      "source": [
        "city_value = employees_df['city'].value_counts()\n",
        "one_emp_city = city_value[city_value <= 1]\n",
        "\n",
        "print(f\"Summary Assertion : Each city has more than one employee is false, count is {len(one_emp_city)}\")"
      ],
      "metadata": {
        "colab": {
          "base_uri": "https://localhost:8080/"
        },
        "id": "gsC41mOvYt9-",
        "outputId": "3889fa4e-7b45-432a-e6d6-2b34aff1a0ee"
      },
      "execution_count": 98,
      "outputs": [
        {
          "output_type": "stream",
          "name": "stdout",
          "text": [
            "Summary Assertion : Each city has more than one employee is false, count is 10024\n"
          ]
        }
      ]
    },
    {
      "cell_type": "code",
      "source": [
        "country_value = employees_df['country'].value_counts()\n",
        "\n",
        "more_emp_country = country_value[country_value >= 3]\n",
        "print(f\"Summary Assertion : Each country has more than 3 employees is true, count is {len(more_emp_country)} \")"
      ],
      "metadata": {
        "colab": {
          "base_uri": "https://localhost:8080/"
        },
        "id": "GrCcoKWyaGwy",
        "outputId": "a9d3169a-075f-47ba-e401-e193be6aea28"
      },
      "execution_count": 104,
      "outputs": [
        {
          "output_type": "stream",
          "name": "stdout",
          "text": [
            "Summary Assertion : Each country has more than 3 employees is true, count is 3 \n"
          ]
        }
      ]
    },
    {
      "cell_type": "code",
      "source": [
        "salaries = []\n",
        "\n",
        "for _, row in employees_df.iterrows():\n",
        "    try:\n",
        "        salary = float(row['salary'])\n",
        "        salaries.append(salary)\n",
        "    except ValueError:\n",
        "        continue\n",
        "\n",
        "plt.figure(figsize=(8, 5))\n",
        "plt.hist(salaries, bins=20, color='purple', edgecolor='black')\n",
        "plt.title('Histogram of Employee Salaries')\n",
        "plt.xlabel('Salary')\n",
        "plt.ylabel('Number of Employees')\n",
        "plt.grid(True)\n",
        "plt.show()\n",
        "\n",
        "# Salary ranging from 100K and 300K\n",
        "\n",
        "in_range = sum(1 for s in salaries if 50000 <= s <= 250000)\n",
        "percentage_in_range = (in_range / len(salaries)) * 100\n",
        "\n",
        "print(f\"\\nStatistical Assertion: {percentage_in_range:.2f}% of employees earn between 50K and 250K\")\n",
        "\n",
        "if percentage_in_range >= 90:\n",
        "    print(\"The data satisfies the new statistical assertion.\")\n",
        "else:\n",
        "    print(\"The data does NOT satisfy the new statistical assertion.\")\n"
      ],
      "metadata": {
        "colab": {
          "base_uri": "https://localhost:8080/",
          "height": 539
        },
        "id": "L11MnhOhbW81",
        "outputId": "86d6eb98-b717-4d25-f18c-0b39e350b1b7"
      },
      "execution_count": 112,
      "outputs": [
        {
          "output_type": "display_data",
          "data": {
            "text/plain": [
              "<Figure size 800x500 with 1 Axes>"
            ],
            "image/png": "[encoded data removed]"
          },
          "metadata": {}
        },
        {
          "output_type": "stream",
          "name": "stdout",
          "text": [
            "\n",
            "Statistical Assertion: 96.97% of employees earn between 50K and 250K\n",
            "The data satisfies the new statistical assertion.\n"
          ]
        }
      ]
    }
  ]
}